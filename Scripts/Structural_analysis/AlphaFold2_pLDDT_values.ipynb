{
 "cells": [
  {
   "cell_type": "markdown",
   "metadata": {},
   "source": [
    "## AlphaFold2 pLDDT values\n",
    "\n",
    "This script will read the pLDDT confidence values from the AF2 model of DfrB1 and save them to a simpler table to have uniform figures in R."
   ]
  },
  {
   "cell_type": "code",
   "execution_count": 1,
   "metadata": {},
   "outputs": [],
   "source": [
    "# Load libraries\n",
    "import re\n",
    "import os\n",
    "from collections import OrderedDict\n",
    "import math\n",
    "from Bio.PDB import *\n",
    "from Bio import SeqIO\n",
    "from Bio.Seq import *\n",
    "from Bio.SeqRecord import *\n",
    "import csv\n",
    "import numpy as np\n",
    "import pandas as pd"
   ]
  },
  {
   "cell_type": "code",
   "execution_count": 2,
   "metadata": {},
   "outputs": [],
   "source": [
    "# Read the PDB file\n",
    "parser = PDBParser()\n",
    "structure = parser.get_structure(\"DfrB1\", \n",
    "                                 \"/media/axelle/afe8c733-963d-4db8-a2ee-551a0b73c9d7/Angel/PhD_projects/R67_DMS_December2020/Figures/chimerax/AF2_Results/Dfrb1_6ca29_unrelaxed_rank_1_model_1.pdb\")"
   ]
  },
  {
   "cell_type": "code",
   "execution_count": 3,
   "metadata": {},
   "outputs": [
    {
     "data": {
      "text/plain": [
       "<Structure id=DfrB1>"
      ]
     },
     "execution_count": 3,
     "metadata": {},
     "output_type": "execute_result"
    }
   ],
   "source": [
    "structure"
   ]
  },
  {
   "cell_type": "code",
   "execution_count": 12,
   "metadata": {},
   "outputs": [],
   "source": [
    "# Define a dictionary to go from three-letter residues to one-letter\n",
    "aa_three2one = {'ALA': 'A', \n",
    "               'ARG': 'R',\n",
    "                'ASN':'N',\n",
    "                'ASP':'D',\n",
    "                'CYS':'C',\n",
    "                'GLU':'E',\n",
    "                'GLN':'Q',\n",
    "                'GLY':'G',\n",
    "                'HIS':'H',\n",
    "                'ILE':'I',\n",
    "                'LEU':'L',\n",
    "                'LYS':'K',\n",
    "                'MET':'M',\n",
    "                'PHE':'F',\n",
    "                'PRO':'P',\n",
    "                'SER':'S',\n",
    "                'THR':'T',\n",
    "                'TRP':'W',\n",
    "                'TYR':'Y',\n",
    "                'VAL':'V'\n",
    "               }"
   ]
  },
  {
   "cell_type": "code",
   "execution_count": 14,
   "metadata": {},
   "outputs": [],
   "source": [
    "residue_list = []\n",
    "pLDDT_list = []\n",
    "\n",
    "curr_pos = 1\n",
    "\n",
    "# Loop through the residues in the structure\n",
    "for model in structure:\n",
    "    for chain in model:\n",
    "        for residue in chain:\n",
    "            # print(residue.get_resname())\n",
    "            new_residue = aa_three2one[residue.get_resname()] + str(curr_pos)\n",
    "            residue_list.append(new_residue)\n",
    "            curr_pos = curr_pos + 1\n",
    "            for atom in residue:\n",
    "                # The pLDDT is saved as the B-factor in the file and it is the same for\n",
    "                # all atoms of the same residue\n",
    "                # print(atom.get_bfactor())\n",
    "                new_pLDDT = atom.get_bfactor()\n",
    "                pLDDT_list.append(new_pLDDT)\n",
    "                break\n",
    "        break\n",
    "        print('----')"
   ]
  },
  {
   "cell_type": "code",
   "execution_count": 15,
   "metadata": {},
   "outputs": [
    {
     "name": "stdout",
     "output_type": "stream",
     "text": [
      "['M1', 'E2', 'R3', 'S4', 'S5', 'N6', 'E7', 'V8', 'S9', 'N10', 'P11', 'V12', 'A13', 'G14', 'N15', 'F16', 'V17', 'F18', 'P19', 'S20', 'D21', 'A22', 'T23', 'F24', 'G25', 'M26', 'G27', 'D28', 'R29', 'V30', 'R31', 'K32', 'K33', 'S34', 'G35', 'A36', 'A37', 'W38', 'Q39', 'G40', 'Q41', 'I42', 'V43', 'G44', 'W45', 'Y46', 'C47', 'T48', 'N49', 'L50', 'T51', 'P52', 'E53', 'G54', 'Y55', 'A56', 'V57', 'E58', 'S59', 'E60', 'A61', 'H62', 'P63', 'G64', 'S65', 'V66', 'Q67', 'I68', 'Y69', 'P70', 'V71', 'A72', 'A73', 'L74', 'E75', 'R76', 'I77', 'N78']\n",
      "[23.38, 24.45, 22.48, 23.5, 21.5, 24.7, 26.87, 26.43, 29.29, 31.6, 34.04, 35.73, 41.4, 42.96, 52.32, 60.52, 66.95, 73.38, 77.34, 78.88, 87.6, 92.23, 96.71, 96.65, 93.37, 94.18, 96.29, 97.76, 98.81, 98.96, 98.95, 98.95, 98.79, 98.61, 98.59, 98.92, 98.96, 98.96, 98.95, 98.91, 98.85, 98.39, 98.24, 96.56, 96.25, 97.54, 96.33, 98.53, 98.19, 98.73, 98.56, 97.27, 97.12, 98.46, 98.76, 98.85, 98.97, 98.97, 98.97, 98.81, 98.91, 98.93, 98.9, 98.9, 98.96, 98.98, 98.96, 98.96, 98.96, 98.93, 98.76, 98.84, 98.91, 98.92, 98.9, 98.38, 97.27, 80.78]\n"
     ]
    }
   ],
   "source": [
    "print(residue_list)\n",
    "print(pLDDT_list)"
   ]
  },
  {
   "cell_type": "code",
   "execution_count": 17,
   "metadata": {},
   "outputs": [
    {
     "data": {
      "text/html": [
       "<div>\n",
       "<style scoped>\n",
       "    .dataframe tbody tr th:only-of-type {\n",
       "        vertical-align: middle;\n",
       "    }\n",
       "\n",
       "    .dataframe tbody tr th {\n",
       "        vertical-align: top;\n",
       "    }\n",
       "\n",
       "    .dataframe thead th {\n",
       "        text-align: right;\n",
       "    }\n",
       "</style>\n",
       "<table border=\"1\" class=\"dataframe\">\n",
       "  <thead>\n",
       "    <tr style=\"text-align: right;\">\n",
       "      <th></th>\n",
       "      <th>Residue</th>\n",
       "      <th>pLDDT</th>\n",
       "    </tr>\n",
       "  </thead>\n",
       "  <tbody>\n",
       "    <tr>\n",
       "      <th>0</th>\n",
       "      <td>M1</td>\n",
       "      <td>23.38</td>\n",
       "    </tr>\n",
       "    <tr>\n",
       "      <th>1</th>\n",
       "      <td>E2</td>\n",
       "      <td>24.45</td>\n",
       "    </tr>\n",
       "    <tr>\n",
       "      <th>2</th>\n",
       "      <td>R3</td>\n",
       "      <td>22.48</td>\n",
       "    </tr>\n",
       "    <tr>\n",
       "      <th>3</th>\n",
       "      <td>S4</td>\n",
       "      <td>23.50</td>\n",
       "    </tr>\n",
       "    <tr>\n",
       "      <th>4</th>\n",
       "      <td>S5</td>\n",
       "      <td>21.50</td>\n",
       "    </tr>\n",
       "    <tr>\n",
       "      <th>...</th>\n",
       "      <td>...</td>\n",
       "      <td>...</td>\n",
       "    </tr>\n",
       "    <tr>\n",
       "      <th>73</th>\n",
       "      <td>L74</td>\n",
       "      <td>98.92</td>\n",
       "    </tr>\n",
       "    <tr>\n",
       "      <th>74</th>\n",
       "      <td>E75</td>\n",
       "      <td>98.90</td>\n",
       "    </tr>\n",
       "    <tr>\n",
       "      <th>75</th>\n",
       "      <td>R76</td>\n",
       "      <td>98.38</td>\n",
       "    </tr>\n",
       "    <tr>\n",
       "      <th>76</th>\n",
       "      <td>I77</td>\n",
       "      <td>97.27</td>\n",
       "    </tr>\n",
       "    <tr>\n",
       "      <th>77</th>\n",
       "      <td>N78</td>\n",
       "      <td>80.78</td>\n",
       "    </tr>\n",
       "  </tbody>\n",
       "</table>\n",
       "<p>78 rows × 2 columns</p>\n",
       "</div>"
      ],
      "text/plain": [
       "   Residue  pLDDT\n",
       "0       M1  23.38\n",
       "1       E2  24.45\n",
       "2       R3  22.48\n",
       "3       S4  23.50\n",
       "4       S5  21.50\n",
       "..     ...    ...\n",
       "73     L74  98.92\n",
       "74     E75  98.90\n",
       "75     R76  98.38\n",
       "76     I77  97.27\n",
       "77     N78  80.78\n",
       "\n",
       "[78 rows x 2 columns]"
      ]
     },
     "execution_count": 17,
     "metadata": {},
     "output_type": "execute_result"
    }
   ],
   "source": [
    "# Organize the data in a dataframe\n",
    "data_dict = {\n",
    "    'Residue': residue_list,\n",
    "    'pLDDT': pLDDT_list\n",
    "}\n",
    "new_df = pd.DataFrame(data_dict)\n",
    "new_df"
   ]
  },
  {
   "cell_type": "code",
   "execution_count": 22,
   "metadata": {},
   "outputs": [],
   "source": [
    "# Save the dataframe\n",
    "new_df.to_csv('/media/axelle/afe8c733-963d-4db8-a2ee-551a0b73c9d7/Angel/PhD_projects/R67_DMS_December2020/Figures/chimerax/AF2_Results/model1_pLDDT.txt',\n",
    "              sep = '\\t', index = False)"
   ]
  },
  {
   "cell_type": "code",
   "execution_count": null,
   "metadata": {},
   "outputs": [],
   "source": []
  },
  {
   "cell_type": "code",
   "execution_count": null,
   "metadata": {},
   "outputs": [],
   "source": []
  }
 ],
 "metadata": {
  "kernelspec": {
   "display_name": "python3.8",
   "language": "python",
   "name": "python3.8"
  },
  "language_info": {
   "codemirror_mode": {
    "name": "ipython",
    "version": 3
   },
   "file_extension": ".py",
   "mimetype": "text/x-python",
   "name": "python",
   "nbconvert_exporter": "python",
   "pygments_lexer": "ipython3",
   "version": "3.8.5"
  }
 },
 "nbformat": 4,
 "nbformat_minor": 2
}
