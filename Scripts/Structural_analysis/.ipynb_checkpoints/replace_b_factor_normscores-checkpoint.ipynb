{
 "cells": [
  {
   "cell_type": "markdown",
   "metadata": {},
   "source": [
    "## Replacing B factor with normalized scores\n",
    "\n",
    "This script will take an input PDB and replace its b-factor column with values from a table for visualization in PyMOL or ChimeraX"
   ]
  },
  {
   "cell_type": "code",
   "execution_count": 1,
   "metadata": {},
   "outputs": [],
   "source": [
    "# Load libraries\n",
    "import re\n",
    "import os\n",
    "from collections import OrderedDict\n",
    "import math\n",
    "from Bio.PDB import *\n",
    "from Bio import SeqIO\n",
    "from Bio.Seq import *\n",
    "from Bio.SeqRecord import *\n",
    "import csv\n",
    "import numpy as np\n",
    "import pandas as pd"
   ]
  },
  {
   "cell_type": "code",
   "execution_count": 2,
   "metadata": {},
   "outputs": [],
   "source": [
    "# Define helper functions\n",
    "def parse_pdb_line(pdb_line):\n",
    "    '''This function will receive a line from a PDB file and parse it as a list. It will do so based on the\n",
    "    PDB format explanation from this site:\n",
    "\n",
    "    https://www.cgl.ucsf.edu/chimera/docs/UsersGuide/tutorials/pdbintro.html.\n",
    "    '''\n",
    "    atom = pdb_line[0:4].strip(' ')\n",
    "    atom_num = pdb_line[6:11].strip(' ')\n",
    "    atom_name = pdb_line[12:16].strip(' ')\n",
    "    resname = pdb_line[17:20].strip(' ')\n",
    "    chain = pdb_line[21]\n",
    "    res_num = pdb_line[22:26].strip(' ')\n",
    "    x = pdb_line[30:38].strip(' ')\n",
    "    y = pdb_line[38:46].strip(' ')\n",
    "    z = pdb_line[46:54].strip(' ')\n",
    "\n",
    "    return [atom, atom_num, atom_name, resname, chain, res_num, x, y, z]\n",
    "\n",
    "##################################\n",
    "\n",
    "def replace_b_factor(pdb_infile, in_dict, outfile):\n",
    "    '''This function uses an input PDB file and replaces b-factors with values from\n",
    "    a dictionary.'''\n",
    "    in_handle = open(pdb_infile, 'r')\n",
    "    out_handle = open(outfile, 'w')\n",
    "\n",
    "    for line in in_handle:\n",
    "        if line.startswith('ATOM'):\n",
    "\n",
    "            # Parse the line\n",
    "            parsed_line = parse_pdb_line(line)\n",
    "\n",
    "            chain = parsed_line[4]\n",
    "            resid = int(parsed_line[5])\n",
    "\n",
    "            # Replace the b-factor\n",
    "            dict_sasa = str(in_dict[chain][resid]) +'0'\n",
    "            final_sasa = (6-len(dict_sasa))*' ' + dict_sasa\n",
    "\n",
    "            # final_line = line.replace(line[60:66], final_sasa)\n",
    "            final_line = line[0:60] + final_sasa + line[66:]\n",
    "            out_handle.write(final_line)\n",
    "\n",
    "    # Close the outfile\n",
    "    out_handle.close()\n",
    "\n",
    "##################################\n",
    "\n",
    "def replace_admin(pdb_file, outfile, score_file):\n",
    "    '''This function receives the files and feeds the information to the replace_b_factor function.'''\n",
    "    ## Read the scores\n",
    "    diffNormScores = pd.read_csv(score_file, sep = '\\t', index_col = None)\n",
    "    \n",
    "    print('Maximum:', max(diffNormScores[diffNormScores.columns[1]]))\n",
    "    print('Minimum:', min(diffNormScores[diffNormScores.columns[1]]))\n",
    "    print('-------------')\n",
    "    \n",
    "    ## Convert the pandas dataframe to a dictionary compatible with the previous function\n",
    "    diffNormScores_dict = {'A':{}, \n",
    "                          'B':{},\n",
    "                          'C':{},\n",
    "                          'D':{}}\n",
    "\n",
    "    # Assign a zero to position one (no data for it)\n",
    "    diffNormScores_dict['A'][1] = round(0, 2)\n",
    "    diffNormScores_dict['B'][1] = round(0, 2)\n",
    "    diffNormScores_dict['C'][1] = round(0, 2)\n",
    "    diffNormScores_dict['D'][1] = round(0, 2)\n",
    "\n",
    "    for index, row in diffNormScores.iterrows():\n",
    "\n",
    "        ### For the new file\n",
    "        ## Add values to dictionary\n",
    "        diffNormScores_dict['A'][int(row['Position'])] = round(row[1], 2)\n",
    "        diffNormScores_dict['B'][int(row['Position'])] = round(row[1], 2)\n",
    "        diffNormScores_dict['C'][int(row['Position'])] = round(row[1], 2)\n",
    "        diffNormScores_dict['D'][int(row['Position'])] = round(row[1], 2)\n",
    "\n",
    "    # Replace the b-factors and write the output file\n",
    "    replace_b_factor(pdb_file, diffNormScores_dict, outfile)\n",
    "    "
   ]
  },
  {
   "cell_type": "markdown",
   "metadata": {},
   "source": [
    "## Use the admin function to save structures for maximum, minimum, and mean deltaS at each position (s_weak - s_opt)"
   ]
  },
  {
   "cell_type": "code",
   "execution_count": 4,
   "metadata": {},
   "outputs": [
    {
     "name": "stdout",
     "output_type": "stream",
     "text": [
      "Maximum: 0.333542433249573\n",
      "Minimum: -0.00031380209463774\n",
      "-------------\n",
      "Maximum: 0.00334569929397661\n",
      "Minimum: -0.6927089222989661\n",
      "-------------\n",
      "Maximum: 0.258138998600794\n",
      "Minimum: -0.347336176416463\n",
      "-------------\n"
     ]
    }
   ],
   "source": [
    "## Work with the files for the minimum effects\n",
    "# This PDB file contains the AF2 model translated to the coordinates of the biological assembly\n",
    "# of 2RK1 based on a structural alignment.\n",
    "pdb_file = '../../Data/Structural_data/DfrB1_alphafold_rank1_2RK1Coords.pdb'\n",
    "\n",
    "## Max delta s\n",
    "replace_admin(pdb_file = pdb_file, \n",
    "             outfile = '../../Figures/Chimerax_figures/2rk1_max_deltaS_ara0.01_ara0.2_af2.pdb',\n",
    "             score_file = '../../Figures/Chimerax_figures/max_deltaS_ara0.2_ara0.01.txt')\n",
    "\n",
    "## Min delta s\n",
    "replace_admin(pdb_file = pdb_file, \n",
    "             outfile = '../../Figures/Chimerax_figures/2rk1_min_deltaS_ara0.01_ara0.2_af2.pdb',\n",
    "             score_file = '../../Figures/Chimerax_figures/min_deltaS_ara0.2_ara0.01.txt')\n",
    "\n",
    "## Mean delta s\n",
    "replace_admin(pdb_file = pdb_file, \n",
    "             outfile = '../../Figures/Chimerax_figures/2rk1_mean_deltaS_ara0.01_ara0.2_af2.pdb',\n",
    "             score_file = '../../Figures/Chimerax_figures/mean_deltaS_ara0.2_ara0.01.txt')\n"
   ]
  }
 ],
 "metadata": {
  "kernelspec": {
   "display_name": "python3.8",
   "language": "python",
   "name": "python3.8"
  },
  "language_info": {
   "codemirror_mode": {
    "name": "ipython",
    "version": 3
   },
   "file_extension": ".py",
   "mimetype": "text/x-python",
   "name": "python",
   "nbconvert_exporter": "python",
   "pygments_lexer": "ipython3",
   "version": "3.8.5"
  }
 },
 "nbformat": 4,
 "nbformat_minor": 2
}
